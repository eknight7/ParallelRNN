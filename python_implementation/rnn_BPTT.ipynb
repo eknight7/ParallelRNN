{
 "cells": [
  {
   "cell_type": "code",
   "execution_count": 1,
   "metadata": {
    "collapsed": true
   },
   "outputs": [],
   "source": [
    "import numpy as np\n",
    "import theano\n",
    "import theano.tensor as TT\n",
    "import matplotlib.pyplot as plt\n",
    "import time\n",
    "from datetime import datetime"
   ]
  },
  {
   "cell_type": "markdown",
   "metadata": {},
   "source": [
    "# Gradients for RNN on 1 example at a time"
   ]
  },
  {
   "cell_type": "markdown",
   "metadata": {},
   "source": [
    "## Gradients with simple functions"
   ]
  },
  {
   "cell_type": "code",
   "execution_count": 2,
   "metadata": {
    "collapsed": true
   },
   "outputs": [],
   "source": [
    "# Number of input units\n",
    "nin = 1\n",
    "# Number of hidden units\n",
    "nh = 4\n",
    "# Number of output units\n",
    "nout = 1"
   ]
  },
  {
   "cell_type": "code",
   "execution_count": 3,
   "metadata": {
    "collapsed": true
   },
   "outputs": [],
   "source": [
    "th_W_xh = TT.matrix()\n",
    "th_W_hh = TT.matrix()\n",
    "th_W_hy = TT.matrix()\n",
    "\n",
    "th_x = TT.matrix()\n",
    "th_y = TT.matrix()\n",
    "th_h0 = TT.vector()"
   ]
  },
  {
   "cell_type": "code",
   "execution_count": null,
   "metadata": {
    "collapsed": false
   },
   "outputs": [],
   "source": [
    "# Compute gradients using Theano\n",
    "# Hidden state\n",
    "#th_h = TT.tanh(TT.dot(th_x, th_W_xh) + TT.dot(th_h0, th_W_hh))\n",
    "#th_yhat = TT.tanh(TT.dot(th_h, th_W_hy))\n",
    "def step(th_x_t, th_h_tm1, th_W_xh, th_W_hh, th_W_hy):\n",
    "    th_h_t = TT.dot(th_x_t, th_W_xh) + TT.dot(th_h_tm1, th_W_hh)\n",
    "    th_yhat_t = TT.dot(th_h_t, th_W_hy)\n",
    "    return th_h_t, th_yhat_t\n",
    "\n",
    "[th_h, th_yhat], _ = theano.scan(step,\n",
    "                                 sequences=th_x,\n",
    "                                 outputs_info=[th_h0, None],\n",
    "                                 non_sequences=[th_W_xh, th_W_hh, \n",
    "                                                th_W_hy])\n",
    "\n",
    "# Gradients using Cost function\n",
    "th_gW_xh, th_gW_hh, th_gW_hy = \\\n",
    "        TT.grad(0.5 * ((th_yhat - th_y)**2).sum(),\n",
    "               [th_W_xh, th_W_hh, th_W_hy])\n",
    "th_fn = theano.function(\n",
    "        [th_x, th_h0, th_y, th_W_xh, th_W_hh, th_W_hy],\n",
    "        [th_gW_xh, th_gW_hh, th_gW_hy])"
   ]
  },
  {
   "cell_type": "code",
   "execution_count": 5,
   "metadata": {
    "collapsed": true
   },
   "outputs": [],
   "source": [
    "# Numerical examples\n",
    "T = 10\n",
    "np_h0 = np.random.uniform(size=(nh,))\n",
    "np_x = np.random.uniform(size=(T, nin))\n",
    "np_y = np.random.uniform(size=(T, nout))\n",
    "\n",
    "np_W_xh = np.random.uniform(size=(nin, nh))\n",
    "np_W_hh = np.random.uniform(size=(nh, nh))\n",
    "np_W_hy = np.random.uniform(size=(nh, nout))"
   ]
  },
  {
   "cell_type": "code",
   "execution_count": 6,
   "metadata": {
    "collapsed": false
   },
   "outputs": [],
   "source": [
    "# Compute gradients using Numpy\n",
    "#np_h = np.tanh(np.dot(np_x, np_W_xh) + np.dot(np_h0, np_W_hh))\n",
    "#np_y = np.tanh(np.dot(np_h, np_W_hy))\n",
    "\n",
    "# Forward propagation\n",
    "def forwardPropagation(np_x, np_h0, W_xh, W_hh, W_hy):\n",
    "    h_tm1 = np_h0\n",
    "    T = np_x.shape[0]\n",
    "    nin, nh = W_xh.shape\n",
    "    nout = W_hy.shape[1]\n",
    "    np_h = np.zeros((T+1, nh))\n",
    "    np_h[0,:] = np_h0\n",
    "    np_yhat = np.zeros((T+1, nout))\n",
    "    for t in xrange(1, T+1):\n",
    "        h_t = np.dot(np_x[t-1], W_xh) + np.dot(h_tm1, W_hh)\n",
    "        np_h[t, :] = h_t\n",
    "        h_tm1 = h_t\n",
    "        yhat = np.dot(h_t, W_hy)\n",
    "        np_yhat[t, :] = yhat\n",
    "    return np_h, np_yhat\n",
    "    \n",
    "np_h, np_yhat = forwardPropagation(np_x, np_h0, np_W_xh, np_W_hh, np_W_hy)\n",
    "loss = 0.5 * ((np_yhat[1:,:] - np_y)**2).sum()"
   ]
  },
  {
   "cell_type": "code",
   "execution_count": 7,
   "metadata": {
    "collapsed": false
   },
   "outputs": [
    {
     "name": "stdout",
     "output_type": "stream",
     "text": [
      "th_dE_xh:\n",
      "[[ 3843091.87195746  3628936.03503639  4728780.4133443   3696203.19943621]]\n",
      "th_dE_hh:\n",
      "[[ 15914946.88268464  17170350.24241574  20062981.09738154\n",
      "   17643237.53417961]\n",
      " [ 41846309.03094722  45720706.27472171  52889715.52696946\n",
      "   47015170.46867734]\n",
      " [ 19314667.46135995  20676929.01944304  24311933.07009304\n",
      "   21236327.66783883]\n",
      " [ 32544741.54535294  35618185.19355418  41144126.16714437\n",
      "   36630842.90496936]]\n",
      "th_dE_hy:\n",
      "[[  6956776.50330535]\n",
      " [ 20178556.44192761]\n",
      " [  7917117.01115057]\n",
      " [ 15875698.27320223]]\n"
     ]
    }
   ],
   "source": [
    "# Theano gradients\n",
    "th_dE_xh, th_dE_hh, th_dE_hy = \\\n",
    "    th_fn(np_x, np_h0, np_y, np_W_xh, np_W_hh, np_W_hy)\n",
    "print \"th_dE_xh:\"\n",
    "print th_dE_xh\n",
    "print \"th_dE_hh:\"\n",
    "print th_dE_hh\n",
    "print \"th_dE_hy:\"\n",
    "print th_dE_hy"
   ]
  },
  {
   "cell_type": "code",
   "execution_count": 8,
   "metadata": {
    "collapsed": false
   },
   "outputs": [
    {
     "name": "stdout",
     "output_type": "stream",
     "text": [
      "np_dE_hy:\n",
      "[[  6956776.50330535]\n",
      " [ 20178556.44192761]\n",
      " [  7917117.01115057]\n",
      " [ 15875698.27320223]]\n"
     ]
    }
   ],
   "source": [
    "# Numpy gradients\n",
    "# np_h : T  x nh, np_yhat : T x nout\n",
    "np_dE_hy = np.dot(np_h[1:,:].T, (np_yhat[1:, :] - np_y))\n",
    "print \"np_dE_hy:\"\n",
    "print np_dE_hy"
   ]
  },
  {
   "cell_type": "code",
   "execution_count": 9,
   "metadata": {
    "collapsed": false
   },
   "outputs": [
    {
     "name": "stdout",
     "output_type": "stream",
     "text": [
      "dE_hh:\n",
      "[[ 15914946.88268464  17170350.24241574  20062981.09738154\n",
      "   17643237.53417961]\n",
      " [ 41846309.03094722  45720706.27472171  52889715.52696946\n",
      "   47015170.46867734]\n",
      " [ 19314667.46135995  20676929.01944304  24311933.07009304\n",
      "   21236327.66783883]\n",
      " [ 32544741.54535295  35618185.19355417  41144126.16714437\n",
      "   36630842.90496936]]\n",
      "th_dE_hh:\n",
      "[[ 15914946.88268464  17170350.24241574  20062981.09738154\n",
      "   17643237.53417961]\n",
      " [ 41846309.03094722  45720706.27472171  52889715.52696946\n",
      "   47015170.46867734]\n",
      " [ 19314667.46135995  20676929.01944304  24311933.07009304\n",
      "   21236327.66783883]\n",
      " [ 32544741.54535294  35618185.19355418  41144126.16714437\n",
      "   36630842.90496936]]\n",
      "True\n"
     ]
    }
   ],
   "source": [
    "dE_hh = np.zeros((nh, nh))\n",
    "\n",
    "dhh = np.zeros((T+1, nh))\n",
    "for t in xrange(T,0,-1):\n",
    "    # dE_t/dy_t * dy_t/dh_t\n",
    "    dhh[t] += np.dot(np_W_hy, (np_yhat[t,:] - np_y[t-1,:]))\n",
    "    dhh[t-1] += np.dot(np_W_hh, dhh[t])\n",
    "    dE_hh += np.outer(np_h[t-1,:], dhh[t])\n",
    "print \"dE_hh:\"\n",
    "print dE_hh\n",
    "print \"th_dE_hh:\"\n",
    "print th_dE_hh\n",
    "print np.allclose(dE_hh, th_dE_hh)"
   ]
  },
  {
   "cell_type": "code",
   "execution_count": 10,
   "metadata": {
    "collapsed": false
   },
   "outputs": [
    {
     "name": "stdout",
     "output_type": "stream",
     "text": [
      "dE_xh:\n",
      "[[ 3843091.87195746  3628936.03503639  4728780.4133443   3696203.19943621]]\n",
      "th_dE_xh:\n",
      "[[ 3843091.87195746  3628936.03503639  4728780.4133443   3696203.19943621]]\n",
      "True\n"
     ]
    }
   ],
   "source": [
    "dE_xh = np.zeros((nin, nh))\n",
    "\n",
    "dhh = np.zeros((T+1, nh))\n",
    "for t in xrange(T,0,-1):\n",
    "    # dE_t/dy_t * dy_t/dh_t\n",
    "    dhh[t] += np.dot(np_W_hy, (np_yhat[t,:] - np_y[t-1,:]))\n",
    "    dhh[t-1] += np.dot(np_W_hh, dhh[t])\n",
    "    dE_xh += np.outer(np_x[t-1,:], dhh[t])\n",
    "print \"dE_xh:\"\n",
    "print dE_xh\n",
    "print \"th_dE_xh:\"\n",
    "print th_dE_xh\n",
    "print np.allclose(dE_xh, th_dE_xh)"
   ]
  },
  {
   "cell_type": "markdown",
   "metadata": {},
   "source": [
    "## Gradients with tanh non-linearity"
   ]
  },
  {
   "cell_type": "code",
   "execution_count": 11,
   "metadata": {
    "collapsed": true
   },
   "outputs": [],
   "source": [
    "# Compute gradients using Theano\n",
    "# Hidden state\n",
    "#th_h = TT.tanh(TT.dot(th_x, th_W_xh) + TT.dot(th_h0, th_W_hh))\n",
    "#th_yhat = TT.tanh(TT.dot(th_h, th_W_hy))\n",
    "def step(th_x_t, th_h_tm1, th_W_xh, th_W_hh, th_W_hy):\n",
    "    th_h_t = TT.tanh(TT.dot(th_x_t, th_W_xh) + TT.dot(th_h_tm1, th_W_hh))\n",
    "    th_yhat_t = TT.tanh(TT.dot(th_h_t, th_W_hy))\n",
    "    return th_h_t, th_yhat_t\n",
    "\n",
    "[th_h, th_yhat], _ = theano.scan(step,\n",
    "                                 sequences=th_x,\n",
    "                                 outputs_info=[th_h0, None],\n",
    "                                 non_sequences=[th_W_xh, th_W_hh, \n",
    "                                                th_W_hy])\n",
    "\n",
    "# Gradients using Cost function\n",
    "th_gW_xh, th_gW_hh, th_gW_hy = \\\n",
    "        TT.grad(0.5 * ((th_yhat - th_y)**2).sum(),\n",
    "               [th_W_xh, th_W_hh, th_W_hy])\n",
    "th_fn = theano.function(\n",
    "        [th_x, th_h0, th_y, th_W_xh, th_W_hh, th_W_hy],\n",
    "        [th_gW_xh, th_gW_hh, th_gW_hy])"
   ]
  },
  {
   "cell_type": "code",
   "execution_count": 12,
   "metadata": {
    "collapsed": true
   },
   "outputs": [],
   "source": [
    "# Numerical examples\n",
    "T = 10\n",
    "np_h0 = np.random.uniform(size=(nh,))\n",
    "np_x = np.random.uniform(size=(T, nin))\n",
    "np_y = np.random.uniform(size=(T, nout))\n",
    "\n",
    "np_W_xh = np.random.uniform(size=(nin, nh))\n",
    "np_W_hh = np.random.uniform(size=(nh, nh))\n",
    "np_W_hy = np.random.uniform(size=(nh, nout))"
   ]
  },
  {
   "cell_type": "code",
   "execution_count": 13,
   "metadata": {
    "collapsed": true
   },
   "outputs": [],
   "source": [
    "# Compute gradients using Numpy\n",
    "#np_h = np.tanh(np.dot(np_x, np_W_xh) + np.dot(np_h0, np_W_hh))\n",
    "#np_y = np.tanh(np.dot(np_h, np_W_hy))\n",
    "\n",
    "# Forward propagation\n",
    "def forwardPropagation(np_x, np_h0, W_xh, W_hh, W_hy):\n",
    "    h_tm1 = np_h0\n",
    "    T = np_x.shape[0]\n",
    "    nin, nh = W_xh.shape\n",
    "    nout = W_hy.shape[1]\n",
    "    np_h = np.zeros((T+1, nh))\n",
    "    np_h[0,:] = np_h0\n",
    "    np_yhat = np.zeros((T+1, nout))\n",
    "    for t in xrange(1, T+1):\n",
    "        h_t = np.tanh(np.dot(np_x[t-1], W_xh) + np.dot(h_tm1, W_hh))\n",
    "        np_h[t, :] = h_t\n",
    "        h_tm1 = h_t\n",
    "        yhat = np.tanh(np.dot(h_t, W_hy))\n",
    "        np_yhat[t, :] = yhat\n",
    "    return np_h, np_yhat\n",
    "    \n",
    "np_h, np_yhat = forwardPropagation(np_x, np_h0, np_W_xh, np_W_hh, np_W_hy)\n",
    "loss = 0.5 * ((np_yhat[1:,:] - np_y)**2).sum()"
   ]
  },
  {
   "cell_type": "code",
   "execution_count": 14,
   "metadata": {
    "collapsed": false
   },
   "outputs": [
    {
     "name": "stdout",
     "output_type": "stream",
     "text": [
      "th_dE_xh:\n",
      "[[ 0.00797597  0.01390864  0.04685298  0.04595759]]\n",
      "th_dE_hh:\n",
      "[[ 0.00888297  0.01074361  0.06103421  0.05704386]\n",
      " [ 0.01136745  0.01589703  0.07488689  0.07049657]\n",
      " [ 0.00655993  0.00644153  0.04772336  0.04418974]\n",
      " [ 0.01205341  0.01794788  0.07802399  0.07367795]]\n",
      "th_dE_hy:\n",
      "[[ 0.58336303]\n",
      " [ 0.579037  ]\n",
      " [ 0.52081292]\n",
      " [ 0.51277335]]\n"
     ]
    }
   ],
   "source": [
    "# Theano gradients\n",
    "th_dE_xh, th_dE_hh, th_dE_hy = \\\n",
    "    th_fn(np_x, np_h0, np_y, np_W_xh, np_W_hh, np_W_hy)\n",
    "print \"th_dE_xh:\"\n",
    "print th_dE_xh\n",
    "print \"th_dE_hh:\"\n",
    "print th_dE_hh\n",
    "print \"th_dE_hy:\"\n",
    "print th_dE_hy"
   ]
  },
  {
   "cell_type": "code",
   "execution_count": 15,
   "metadata": {
    "collapsed": false
   },
   "outputs": [
    {
     "name": "stdout",
     "output_type": "stream",
     "text": [
      "np_dE_hy:\n",
      "[[ 0.58336303]\n",
      " [ 0.579037  ]\n",
      " [ 0.52081292]\n",
      " [ 0.51277335]]\n",
      "th_dE_hy:\n",
      "[[ 0.58336303]\n",
      " [ 0.579037  ]\n",
      " [ 0.52081292]\n",
      " [ 0.51277335]]\n",
      "True\n"
     ]
    }
   ],
   "source": [
    "# Numpy gradients\n",
    "# np_h : T  x nh, np_yhat : T x nout\n",
    "np_dE_hy = np.dot(np_h[1:,:].T, \n",
    "          (np_yhat[1:, :] - np_y) * (1 - np_yhat[1:, :] ** 2))\n",
    "print \"np_dE_hy:\"\n",
    "print np_dE_hy\n",
    "print \"th_dE_hy:\"\n",
    "print th_dE_hy\n",
    "print np.allclose(np_dE_hy, th_dE_hy)"
   ]
  },
  {
   "cell_type": "code",
   "execution_count": 16,
   "metadata": {
    "collapsed": false
   },
   "outputs": [
    {
     "name": "stdout",
     "output_type": "stream",
     "text": [
      "dE_hh:\n",
      "[[ 0.00888297  0.01074361  0.06103421  0.05704386]\n",
      " [ 0.01136745  0.01589703  0.07488689  0.07049657]\n",
      " [ 0.00655993  0.00644153  0.04772336  0.04418974]\n",
      " [ 0.01205341  0.01794788  0.07802399  0.07367795]]\n",
      "th_dE_hh:\n",
      "[[ 0.00888297  0.01074361  0.06103421  0.05704386]\n",
      " [ 0.01136745  0.01589703  0.07488689  0.07049657]\n",
      " [ 0.00655993  0.00644153  0.04772336  0.04418974]\n",
      " [ 0.01205341  0.01794788  0.07802399  0.07367795]]\n",
      "True\n"
     ]
    }
   ],
   "source": [
    "dE_hh = np.zeros((nh, nh))\n",
    "\n",
    "dhh = np.zeros((T+1, nh))\n",
    "for t in xrange(T,0,-1):\n",
    "    # dE_t/dy_t * dy_t/dh_t\n",
    "    dhh[t] += np.dot(np_W_hy, \n",
    "             (np_yhat[t,:] - np_y[t-1,:]) * (1 - np_yhat[t,:] ** 2))\n",
    "    r = dhh[t] * (1 - np_h[t,:] ** 2)\n",
    "    dhh[t-1] += np.dot(np_W_hh, r)\n",
    "    dE_hh += np.outer(np_h[t-1,:], r)\n",
    "print \"dE_hh:\"\n",
    "print dE_hh\n",
    "print \"th_dE_hh:\"\n",
    "print th_dE_hh\n",
    "print np.allclose(dE_hh, th_dE_hh)"
   ]
  },
  {
   "cell_type": "code",
   "execution_count": 17,
   "metadata": {
    "collapsed": false
   },
   "outputs": [
    {
     "name": "stdout",
     "output_type": "stream",
     "text": [
      "dE_xh:\n",
      "[[ 0.00797597  0.01390864  0.04685298  0.04595759]]\n",
      "th_dE_xh:\n",
      "[[ 0.00797597  0.01390864  0.04685298  0.04595759]]\n",
      "True\n"
     ]
    }
   ],
   "source": [
    "dE_xh = np.zeros((nin, nh))\n",
    "\n",
    "dhh = np.zeros((T+1, nh))\n",
    "for t in xrange(T,0,-1):\n",
    "    # dE_t/dy_t * dy_t/dh_t\n",
    "    dhh[t] += np.dot(np_W_hy, \n",
    "             (np_yhat[t,:] - np_y[t-1,:]) * (1 - np_yhat[t,:] ** 2))\n",
    "    r = dhh[t] * (1 - np_h[t,:] ** 2)\n",
    "    dhh[t-1] += np.dot(np_W_hh, r)\n",
    "    #dE_xh += np.outer(np_x[t-1,:], r)\n",
    "    dE_xh += np.reshape(np_x[t-1,:], (np_x.shape[1], 1)) * r.T\n",
    "print \"dE_xh:\"\n",
    "print dE_xh\n",
    "print \"th_dE_xh:\"\n",
    "print th_dE_xh\n",
    "print np.allclose(dE_xh, th_dE_xh)\n"
   ]
  },
  {
   "cell_type": "markdown",
   "metadata": {},
   "source": [
    "# Gradients for RNN with mini-batches"
   ]
  },
  {
   "cell_type": "code",
   "execution_count": 18,
   "metadata": {
    "collapsed": true
   },
   "outputs": [],
   "source": [
    "# Number of input units\n",
    "nin = 3\n",
    "# Number of hidden units\n",
    "nh = 7\n",
    "# Number of output units\n",
    "nout = 1\n",
    "# Number of batches\n",
    "nbatches = 10"
   ]
  },
  {
   "cell_type": "code",
   "execution_count": 19,
   "metadata": {
    "collapsed": true
   },
   "outputs": [],
   "source": [
    "th_W_xh = TT.matrix()\n",
    "th_W_hh = TT.matrix()\n",
    "th_W_hy = TT.matrix()\n",
    "\n",
    "th_x = TT.tensor3()\n",
    "th_y = TT.tensor3()\n",
    "th_h0 = TT.matrix()"
   ]
  },
  {
   "cell_type": "code",
   "execution_count": 20,
   "metadata": {
    "collapsed": true
   },
   "outputs": [],
   "source": [
    "# Compute gradients using Theano\n",
    "# Hidden state\n",
    "#th_h = TT.tanh(TT.dot(th_x, th_W_xh) + TT.dot(th_h0, th_W_hh))\n",
    "#th_yhat = TT.tanh(TT.dot(th_h, th_W_hy))\n",
    "def step(th_x_t, th_h_tm1, th_W_xh, th_W_hh, th_W_hy):\n",
    "    th_h_t = TT.tanh(TT.dot(th_x_t, th_W_xh) + TT.dot(th_h_tm1, th_W_hh))\n",
    "    th_yhat_t = TT.tanh(TT.dot(th_h_t, th_W_hy))\n",
    "    return th_h_t, th_yhat_t\n",
    "\n",
    "[th_h, th_yhat], _ = theano.scan(step,\n",
    "                                 sequences=th_x,\n",
    "                                 outputs_info=[th_h0, None],\n",
    "                                 non_sequences=[th_W_xh, th_W_hh, \n",
    "                                                th_W_hy])\n",
    "\n",
    "th_error = 0.5 * ((th_yhat - th_y) ** 2).sum().sum()\n",
    "# Gradients using Cost function\n",
    "th_gW_xh, th_gW_hh, th_gW_hy = \\\n",
    "                    TT.grad(th_error, [th_W_xh, th_W_hh, th_W_hy])\n",
    "th_fn = theano.function(\n",
    "        [th_x, th_h0, th_y, th_W_xh, th_W_hh, th_W_hy],\n",
    "        [th_gW_xh, th_gW_hh, th_gW_hy])"
   ]
  },
  {
   "cell_type": "code",
   "execution_count": 21,
   "metadata": {
    "collapsed": true
   },
   "outputs": [],
   "source": [
    "# Numerical examples\n",
    "T = 10\n",
    "np_h0 = np.random.uniform(size=(nbatches, nh))\n",
    "np_x = np.random.uniform(size=(T, nbatches, nin))\n",
    "np_y = np.random.uniform(size=(T, nbatches, nout))\n",
    "\n",
    "np_W_xh = np.random.uniform(size=(nin, nh))\n",
    "np_W_hh = np.random.uniform(size=(nh, nh))\n",
    "np_W_hy = np.random.uniform(size=(nh, nout))"
   ]
  },
  {
   "cell_type": "code",
   "execution_count": 22,
   "metadata": {
    "collapsed": false
   },
   "outputs": [
    {
     "name": "stdout",
     "output_type": "stream",
     "text": [
      "th_dE_xh:\n",
      "[[  9.46756716e-04   1.42526584e-03   6.11103857e-05   1.88734985e-03\n",
      "    1.37105367e-03   1.58197431e-03   1.64599757e-03]\n",
      " [  1.36294685e-03   2.36832618e-03   1.05536765e-04   3.06072720e-03\n",
      "    2.19073716e-03   2.04764692e-03   2.86222114e-03]\n",
      " [  8.74789750e-04   1.40926535e-03   6.10092933e-05   1.57079518e-03\n",
      "    1.50081140e-03   1.39801721e-03   1.57214105e-03]]\n",
      "th_dE_hh:\n",
      "[[  1.67672259e-03   2.09713662e-03   8.28578133e-05   2.74616998e-03\n",
      "    1.93149022e-03   2.42004893e-03   2.52409212e-03]\n",
      " [  1.71538998e-03   2.37860974e-03   1.04111007e-04   2.73262221e-03\n",
      "    2.26754066e-03   2.73786290e-03   2.35931382e-03]\n",
      " [  1.54090492e-03   1.73827051e-03   8.01977375e-05   2.49854015e-03\n",
      "    1.81878473e-03   2.26039066e-03   2.03737760e-03]\n",
      " [  1.56890346e-03   1.99554964e-03   8.25398330e-05   2.32308599e-03\n",
      "    1.89028623e-03   2.42575345e-03   2.13608479e-03]\n",
      " [  2.17194907e-03   3.56360456e-03   1.41147209e-04   3.82959321e-03\n",
      "    2.90491922e-03   3.50257073e-03   3.41217100e-03]\n",
      " [  1.91020079e-03   2.67223276e-03   1.24279642e-04   3.39490380e-03\n",
      "    2.71056203e-03   2.90823355e-03   3.05830751e-03]\n",
      " [  2.28098681e-03   3.71619344e-03   1.48766562e-04   4.19009326e-03\n",
      "    3.09754789e-03   3.57129055e-03   3.83318380e-03]]\n",
      "th_dE_hy:\n",
      "[[ 0.45825637]\n",
      " [ 0.46383301]\n",
      " [ 0.46621112]\n",
      " [ 0.4629324 ]\n",
      " [ 0.46461205]\n",
      " [ 0.46499326]\n",
      " [ 0.46342569]]\n"
     ]
    }
   ],
   "source": [
    "# Theano gradients\n",
    "th_dE_xh, th_dE_hh, th_dE_hy = \\\n",
    "    th_fn(np_x, np_h0, np_y, np_W_xh, np_W_hh, np_W_hy)\n",
    "print \"th_dE_xh:\"\n",
    "print th_dE_xh\n",
    "print \"th_dE_hh:\"\n",
    "print th_dE_hh\n",
    "print \"th_dE_hy:\"\n",
    "print th_dE_hy"
   ]
  },
  {
   "cell_type": "code",
   "execution_count": 23,
   "metadata": {
    "collapsed": false
   },
   "outputs": [
    {
     "name": "stdout",
     "output_type": "stream",
     "text": [
      "True\n",
      "True\n"
     ]
    }
   ],
   "source": [
    "# Compute gradients using Numpy\n",
    "# Forward propagation\n",
    "def forwardPropagationBatch(np_x, np_h0, W_xh, W_hh, W_hy):\n",
    "    h_tm1 = np_h0\n",
    "    T = np_x.shape[0]\n",
    "    nin, nh = W_xh.shape\n",
    "    nout = W_hy.shape[1]\n",
    "    np_h = np.zeros((T+1, nbatches, nh))\n",
    "    np_h[0,:, :] = np_h0\n",
    "    np_yhat = np.zeros((T+1, nbatches, nout))\n",
    "    for t in xrange(1, T+1):\n",
    "        h_t = np.tanh(np.dot(np_x[t-1], W_xh) + np.dot(h_tm1, W_hh))\n",
    "        np_h[t, :, :] = h_t\n",
    "        h_tm1 = h_t\n",
    "        yhat = np.tanh(np.dot(h_t, W_hy))\n",
    "        np_yhat[t, :, :] = yhat\n",
    "    return np_h, np_yhat\n",
    "    \n",
    "np_h, np_yhat = forwardPropagationBatch(np_x, np_h0, \n",
    "                                   np_W_xh, np_W_hh, np_W_hy)\n",
    "loss = 0.5 * ((np_yhat[1:,:,:] - np_y)**2).sum().sum()\n",
    "\"\"\"\n",
    "print \"np_h:\"\n",
    "print np_h\n",
    "print \"np_yhat:\"\n",
    "print np_yhat\n",
    "\"\"\"\n",
    "snp_h = np.zeros((T+1, nbatches, nh))\n",
    "snp_yhat = np.zeros((T+1, nbatches, nout))\n",
    "for nb in xrange(nbatches):\n",
    "    cur_h, cur_yhat = \\\n",
    "    forwardPropagation(np_x[:, nb, :], np_h0[nb, :], \n",
    "                       np_W_xh, np_W_hh, np_W_hy)\n",
    "    snp_h[:, nb, :] = cur_h\n",
    "    snp_yhat[:, nb, :] = cur_yhat\n",
    "\"\"\"\n",
    "print \"snp_h:\"\n",
    "print snp_h\n",
    "print \"snp_yhat:\"\n",
    "print snp_yhat\n",
    "\"\"\"\n",
    "print np.allclose(np_h, snp_h)\n",
    "print np.allclose(np_yhat, snp_yhat)"
   ]
  },
  {
   "cell_type": "code",
   "execution_count": 24,
   "metadata": {
    "collapsed": false
   },
   "outputs": [
    {
     "name": "stdout",
     "output_type": "stream",
     "text": [
      "(10, 10, 7)\n",
      "(10, 10, 1)\n",
      "np_dE_hy:\n",
      "[[ 0.45825637]\n",
      " [ 0.46383301]\n",
      " [ 0.46621112]\n",
      " [ 0.4629324 ]\n",
      " [ 0.46461205]\n",
      " [ 0.46499326]\n",
      " [ 0.46342569]]\n",
      "th_dE_hy:\n",
      "[[ 0.45825637]\n",
      " [ 0.46383301]\n",
      " [ 0.46621112]\n",
      " [ 0.4629324 ]\n",
      " [ 0.46461205]\n",
      " [ 0.46499326]\n",
      " [ 0.46342569]]\n",
      "True\n"
     ]
    }
   ],
   "source": [
    "# Numpy gradients\n",
    "# np_h : T  x nh, np_yhat : T x nout\n",
    "\n",
    "h1 = np_h[1:,:,:]\n",
    "print h1.shape\n",
    "y1 = (np_yhat[1:, :, :] - np_y) * (1 - np_yhat[1:, :, :] ** 2)\n",
    "print y1.shape\n",
    "np_dE_hy = np.tensordot(h1, y1, axes=([0, 1], [0, 1]))\n",
    "print \"np_dE_hy:\"\n",
    "print np_dE_hy\n",
    "print \"th_dE_hy:\"\n",
    "print th_dE_hy\n",
    "print np.allclose(np_dE_hy, th_dE_hy)"
   ]
  },
  {
   "cell_type": "code",
   "execution_count": 25,
   "metadata": {
    "collapsed": false
   },
   "outputs": [
    {
     "name": "stdout",
     "output_type": "stream",
     "text": [
      "dE_hh:\n",
      "[[  1.67672259e-03   2.09713662e-03   8.28578133e-05   2.74616998e-03\n",
      "    1.93149022e-03   2.42004893e-03   2.52409212e-03]\n",
      " [  1.71538998e-03   2.37860974e-03   1.04111007e-04   2.73262221e-03\n",
      "    2.26754066e-03   2.73786290e-03   2.35931382e-03]\n",
      " [  1.54090492e-03   1.73827051e-03   8.01977375e-05   2.49854015e-03\n",
      "    1.81878473e-03   2.26039066e-03   2.03737760e-03]\n",
      " [  1.56890346e-03   1.99554964e-03   8.25398330e-05   2.32308599e-03\n",
      "    1.89028623e-03   2.42575345e-03   2.13608479e-03]\n",
      " [  2.17194907e-03   3.56360456e-03   1.41147209e-04   3.82959321e-03\n",
      "    2.90491922e-03   3.50257073e-03   3.41217100e-03]\n",
      " [  1.91020079e-03   2.67223276e-03   1.24279642e-04   3.39490380e-03\n",
      "    2.71056203e-03   2.90823355e-03   3.05830751e-03]\n",
      " [  2.28098681e-03   3.71619344e-03   1.48766562e-04   4.19009326e-03\n",
      "    3.09754789e-03   3.57129055e-03   3.83318380e-03]]\n",
      "th_dE_hh:\n",
      "[[  1.67672259e-03   2.09713662e-03   8.28578133e-05   2.74616998e-03\n",
      "    1.93149022e-03   2.42004893e-03   2.52409212e-03]\n",
      " [  1.71538998e-03   2.37860974e-03   1.04111007e-04   2.73262221e-03\n",
      "    2.26754066e-03   2.73786290e-03   2.35931382e-03]\n",
      " [  1.54090492e-03   1.73827051e-03   8.01977375e-05   2.49854015e-03\n",
      "    1.81878473e-03   2.26039066e-03   2.03737760e-03]\n",
      " [  1.56890346e-03   1.99554964e-03   8.25398330e-05   2.32308599e-03\n",
      "    1.89028623e-03   2.42575345e-03   2.13608479e-03]\n",
      " [  2.17194907e-03   3.56360456e-03   1.41147209e-04   3.82959321e-03\n",
      "    2.90491922e-03   3.50257073e-03   3.41217100e-03]\n",
      " [  1.91020079e-03   2.67223276e-03   1.24279642e-04   3.39490380e-03\n",
      "    2.71056203e-03   2.90823355e-03   3.05830751e-03]\n",
      " [  2.28098681e-03   3.71619344e-03   1.48766562e-04   4.19009326e-03\n",
      "    3.09754789e-03   3.57129055e-03   3.83318380e-03]]\n",
      "True\n",
      "dE_hh:\n",
      "[[  1.67672259e-03   2.09713662e-03   8.28578133e-05   2.74616998e-03\n",
      "    1.93149022e-03   2.42004893e-03   2.52409212e-03]\n",
      " [  1.71538998e-03   2.37860974e-03   1.04111007e-04   2.73262221e-03\n",
      "    2.26754066e-03   2.73786290e-03   2.35931382e-03]\n",
      " [  1.54090492e-03   1.73827051e-03   8.01977375e-05   2.49854015e-03\n",
      "    1.81878473e-03   2.26039066e-03   2.03737760e-03]\n",
      " [  1.56890346e-03   1.99554964e-03   8.25398330e-05   2.32308599e-03\n",
      "    1.89028623e-03   2.42575345e-03   2.13608479e-03]\n",
      " [  2.17194907e-03   3.56360456e-03   1.41147209e-04   3.82959321e-03\n",
      "    2.90491922e-03   3.50257073e-03   3.41217100e-03]\n",
      " [  1.91020079e-03   2.67223276e-03   1.24279642e-04   3.39490380e-03\n",
      "    2.71056203e-03   2.90823355e-03   3.05830751e-03]\n",
      " [  2.28098681e-03   3.71619344e-03   1.48766562e-04   4.19009326e-03\n",
      "    3.09754789e-03   3.57129055e-03   3.83318380e-03]]\n",
      "th_dE_hh:\n",
      "[[  1.67672259e-03   2.09713662e-03   8.28578133e-05   2.74616998e-03\n",
      "    1.93149022e-03   2.42004893e-03   2.52409212e-03]\n",
      " [  1.71538998e-03   2.37860974e-03   1.04111007e-04   2.73262221e-03\n",
      "    2.26754066e-03   2.73786290e-03   2.35931382e-03]\n",
      " [  1.54090492e-03   1.73827051e-03   8.01977375e-05   2.49854015e-03\n",
      "    1.81878473e-03   2.26039066e-03   2.03737760e-03]\n",
      " [  1.56890346e-03   1.99554964e-03   8.25398330e-05   2.32308599e-03\n",
      "    1.89028623e-03   2.42575345e-03   2.13608479e-03]\n",
      " [  2.17194907e-03   3.56360456e-03   1.41147209e-04   3.82959321e-03\n",
      "    2.90491922e-03   3.50257073e-03   3.41217100e-03]\n",
      " [  1.91020079e-03   2.67223276e-03   1.24279642e-04   3.39490380e-03\n",
      "    2.71056203e-03   2.90823355e-03   3.05830751e-03]\n",
      " [  2.28098681e-03   3.71619344e-03   1.48766562e-04   4.19009326e-03\n",
      "    3.09754789e-03   3.57129055e-03   3.83318380e-03]]\n",
      "True\n"
     ]
    }
   ],
   "source": [
    "dE_hh = np.zeros((nh, nh))\n",
    "\n",
    "for nb in xrange(nbatches):\n",
    "    dhh = np.zeros((T+1, nh))\n",
    "    for t in xrange(T,0,-1):\n",
    "        # dE_t/dy_t * dy_t/dh_t\n",
    "        dhh[t] += np.dot(np_W_hy, \n",
    "                 (np_yhat[t,nb,:] - np_y[t-1,nb,:]) * (1 - np_yhat[t,nb,:] ** 2))\n",
    "        r = dhh[t] * (1 - np_h[t,nb,:] ** 2)\n",
    "        dhh[t-1] += np.dot(np_W_hh, r)\n",
    "        #dE_hh += np.outer(np_h[t-1,nb,:], r)\n",
    "        dE_hh += np.reshape(np_h[t - 1, nb, :], (nh, 1)) * r\n",
    "        \n",
    "print \"dE_hh:\"\n",
    "print dE_hh\n",
    "print \"th_dE_hh:\"\n",
    "print th_dE_hh\n",
    "print np.allclose(dE_hh, th_dE_hh)\n",
    "\n",
    "dE_hh = np.zeros((nh, nh))\n",
    "dhh = np.zeros((T+1, nbatches, nh))\n",
    "for t in xrange(T, 0, -1):\n",
    "    for nb in xrange(nbatches):\n",
    "        dhh[t, nb, :] += \\\n",
    "            np.dot(np_W_hy,\n",
    "            (np_yhat[t,nb,:] - np_y[t-1,nb,:]) * (1 - np_yhat[t,nb,:] ** 2))\n",
    "        r = dhh[t, nb, :] * (1 - np_h[t, nb, :] ** 2)\n",
    "        dhh[t-1, nb, :] += np.dot(np_W_hh, r)\n",
    "        dE_hh += np.reshape(np_h[t-1, nb, :], (nh,1)) * r\n",
    "\n",
    "print \"dE_hh:\"\n",
    "print dE_hh\n",
    "print \"th_dE_hh:\"\n",
    "print th_dE_hh\n",
    "print np.allclose(dE_hh, th_dE_hh)"
   ]
  },
  {
   "cell_type": "code",
   "execution_count": 26,
   "metadata": {
    "collapsed": false
   },
   "outputs": [
    {
     "name": "stdout",
     "output_type": "stream",
     "text": [
      "dE_hh:\n",
      "[[  1.67672259e-03   2.09713662e-03   8.28578133e-05   2.74616998e-03\n",
      "    1.93149022e-03   2.42004893e-03   2.52409212e-03]\n",
      " [  1.71538998e-03   2.37860974e-03   1.04111007e-04   2.73262221e-03\n",
      "    2.26754066e-03   2.73786290e-03   2.35931382e-03]\n",
      " [  1.54090492e-03   1.73827051e-03   8.01977375e-05   2.49854015e-03\n",
      "    1.81878473e-03   2.26039066e-03   2.03737760e-03]\n",
      " [  1.56890346e-03   1.99554964e-03   8.25398330e-05   2.32308599e-03\n",
      "    1.89028623e-03   2.42575345e-03   2.13608479e-03]\n",
      " [  2.17194907e-03   3.56360456e-03   1.41147209e-04   3.82959321e-03\n",
      "    2.90491922e-03   3.50257073e-03   3.41217100e-03]\n",
      " [  1.91020079e-03   2.67223276e-03   1.24279642e-04   3.39490380e-03\n",
      "    2.71056203e-03   2.90823355e-03   3.05830751e-03]\n",
      " [  2.28098681e-03   3.71619344e-03   1.48766562e-04   4.19009326e-03\n",
      "    3.09754789e-03   3.57129055e-03   3.83318380e-03]]\n",
      "th_dE_hh:\n",
      "[[  1.67672259e-03   2.09713662e-03   8.28578133e-05   2.74616998e-03\n",
      "    1.93149022e-03   2.42004893e-03   2.52409212e-03]\n",
      " [  1.71538998e-03   2.37860974e-03   1.04111007e-04   2.73262221e-03\n",
      "    2.26754066e-03   2.73786290e-03   2.35931382e-03]\n",
      " [  1.54090492e-03   1.73827051e-03   8.01977375e-05   2.49854015e-03\n",
      "    1.81878473e-03   2.26039066e-03   2.03737760e-03]\n",
      " [  1.56890346e-03   1.99554964e-03   8.25398330e-05   2.32308599e-03\n",
      "    1.89028623e-03   2.42575345e-03   2.13608479e-03]\n",
      " [  2.17194907e-03   3.56360456e-03   1.41147209e-04   3.82959321e-03\n",
      "    2.90491922e-03   3.50257073e-03   3.41217100e-03]\n",
      " [  1.91020079e-03   2.67223276e-03   1.24279642e-04   3.39490380e-03\n",
      "    2.71056203e-03   2.90823355e-03   3.05830751e-03]\n",
      " [  2.28098681e-03   3.71619344e-03   1.48766562e-04   4.19009326e-03\n",
      "    3.09754789e-03   3.57129055e-03   3.83318380e-03]]\n",
      "True\n"
     ]
    }
   ],
   "source": [
    "dE_hh = np.zeros((nh, nh))\n",
    "dhh = np.zeros((T+1, nbatches, nh))\n",
    "\n",
    "for t in xrange(T,0,-1):\n",
    "    # dE_t/dy_t * dy_t/dh_t\n",
    "    m = (np_yhat[t, :, :] - np_y[t-1, :, :]) * (1 - np_yhat[t, :, :] ** 2)\n",
    "    dhh[t, :, :] += np.dot(m, np_W_hy.T)\n",
    "    r = dhh[t, :, :] * (1 - np_h[t, :, :] ** 2)\n",
    "    \n",
    "    dhh[t-1, :, :] += np.dot(r, np_W_hh.T)\n",
    "    dE_hh += np.dot(np_h[t-1, :, :].T, r)\n",
    "    \n",
    "print \"dE_hh:\"\n",
    "print dE_hh\n",
    "print \"th_dE_hh:\"\n",
    "print th_dE_hh\n",
    "print np.allclose(dE_hh, th_dE_hh)"
   ]
  },
  {
   "cell_type": "code",
   "execution_count": 27,
   "metadata": {
    "collapsed": false
   },
   "outputs": [
    {
     "name": "stdout",
     "output_type": "stream",
     "text": [
      "dE_xh:\n",
      "[[  9.46756716e-04   1.42526584e-03   6.11103857e-05   1.88734985e-03\n",
      "    1.37105367e-03   1.58197431e-03   1.64599757e-03]\n",
      " [  1.36294685e-03   2.36832618e-03   1.05536765e-04   3.06072720e-03\n",
      "    2.19073716e-03   2.04764692e-03   2.86222114e-03]\n",
      " [  8.74789750e-04   1.40926535e-03   6.10092933e-05   1.57079518e-03\n",
      "    1.50081140e-03   1.39801721e-03   1.57214105e-03]]\n",
      "th_dE_xh:\n",
      "[[  9.46756716e-04   1.42526584e-03   6.11103857e-05   1.88734985e-03\n",
      "    1.37105367e-03   1.58197431e-03   1.64599757e-03]\n",
      " [  1.36294685e-03   2.36832618e-03   1.05536765e-04   3.06072720e-03\n",
      "    2.19073716e-03   2.04764692e-03   2.86222114e-03]\n",
      " [  8.74789750e-04   1.40926535e-03   6.10092933e-05   1.57079518e-03\n",
      "    1.50081140e-03   1.39801721e-03   1.57214105e-03]]\n",
      "True\n"
     ]
    }
   ],
   "source": [
    "dE_xh = np.zeros((nin, nh))\n",
    "dhh = np.zeros((T+1, nbatches, nh))\n",
    "\n",
    "for t in xrange(T,0,-1):\n",
    "    # dE_t/dy_t * dy_t/dh_t\n",
    "    m = (np_yhat[t, :, :] - np_y[t-1, :, :]) * (1 - np_yhat[t, :, :] ** 2)\n",
    "    dhh[t, :, :] += np.dot(m, np_W_hy.T)\n",
    "    r = dhh[t, :, :] * (1 - np_h[t, :, :] ** 2)\n",
    "    \n",
    "    dhh[t-1, :, :] += np.dot(r, np_W_hh.T)\n",
    "    dE_xh += np.dot(np_x[t-1, :, :].T, r)\n",
    "    \n",
    "print \"dE_xh:\"\n",
    "print dE_xh\n",
    "print \"th_dE_xh:\"\n",
    "print th_dE_xh\n",
    "print np.allclose(dE_xh, th_dE_xh)"
   ]
  },
  {
   "cell_type": "code",
   "execution_count": null,
   "metadata": {
    "collapsed": true
   },
   "outputs": [],
   "source": []
  }
 ],
 "metadata": {
  "kernelspec": {
   "display_name": "Python 2",
   "language": "python",
   "name": "python2"
  },
  "language_info": {
   "codemirror_mode": {
    "name": "ipython",
    "version": 2
   },
   "file_extension": ".py",
   "mimetype": "text/x-python",
   "name": "python",
   "nbconvert_exporter": "python",
   "pygments_lexer": "ipython2",
   "version": "2.7.11"
  }
 },
 "nbformat": 4,
 "nbformat_minor": 0
}
